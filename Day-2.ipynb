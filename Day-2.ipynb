{
 "cells": [
  {
   "cell_type": "markdown",
   "id": "23256bd3",
   "metadata": {},
   "source": [
    " # addition +\n",
    "# subtraction -\n",
    "# mutliplication *\n",
    "# division /\n",
    "# modulus %\n",
    "# power **"
   ]
  },
  {
   "cell_type": "code",
   "execution_count": 5,
   "id": "de7c1cc0",
   "metadata": {},
   "outputs": [],
   "source": [
    "a=8\n",
    "b=4"
   ]
  },
  {
   "cell_type": "code",
   "execution_count": 6,
   "id": "b94e1643",
   "metadata": {},
   "outputs": [
    {
     "data": {
      "text/plain": [
       "12"
      ]
     },
     "execution_count": 6,
     "metadata": {},
     "output_type": "execute_result"
    }
   ],
   "source": [
    "a+b"
   ]
  },
  {
   "cell_type": "code",
   "execution_count": 7,
   "id": "40172079",
   "metadata": {},
   "outputs": [
    {
     "data": {
      "text/plain": [
       "4096"
      ]
     },
     "execution_count": 7,
     "metadata": {},
     "output_type": "execute_result"
    }
   ],
   "source": [
    "a**b"
   ]
  },
  {
   "cell_type": "code",
   "execution_count": 8,
   "id": "a879e5d7",
   "metadata": {},
   "outputs": [
    {
     "data": {
      "text/plain": [
       "4.0"
      ]
     },
     "execution_count": 8,
     "metadata": {},
     "output_type": "execute_result"
    }
   ],
   "source": [
    "8/2"
   ]
  },
  {
   "cell_type": "code",
   "execution_count": 9,
   "id": "4cb50920",
   "metadata": {},
   "outputs": [
    {
     "data": {
      "text/plain": [
       "33.225"
      ]
     },
     "execution_count": 9,
     "metadata": {},
     "output_type": "execute_result"
    }
   ],
   "source": [
    "66.45/2"
   ]
  },
  {
   "cell_type": "code",
   "execution_count": 10,
   "id": "9b465e4e",
   "metadata": {},
   "outputs": [
    {
     "data": {
      "text/plain": [
       "1"
      ]
     },
     "execution_count": 10,
     "metadata": {},
     "output_type": "execute_result"
    }
   ],
   "source": [
    "23%2"
   ]
  },
  {
   "cell_type": "code",
   "execution_count": 11,
   "id": "c051d319",
   "metadata": {},
   "outputs": [
    {
     "data": {
      "text/plain": [
       "32"
      ]
     },
     "execution_count": 11,
     "metadata": {},
     "output_type": "execute_result"
    }
   ],
   "source": [
    "a*b"
   ]
  },
  {
   "cell_type": "markdown",
   "id": "3bfab278",
   "metadata": {},
   "source": [
    "# > < >= <= == !="
   ]
  },
  {
   "cell_type": "code",
   "execution_count": 13,
   "id": "006627b4",
   "metadata": {},
   "outputs": [
    {
     "data": {
      "text/plain": [
       "False"
      ]
     },
     "execution_count": 13,
     "metadata": {},
     "output_type": "execute_result"
    }
   ],
   "source": [
    "a<b"
   ]
  },
  {
   "cell_type": "code",
   "execution_count": 14,
   "id": "1d6f95ff",
   "metadata": {},
   "outputs": [
    {
     "data": {
      "text/plain": [
       "False"
      ]
     },
     "execution_count": 14,
     "metadata": {},
     "output_type": "execute_result"
    }
   ],
   "source": [
    "a>10"
   ]
  },
  {
   "cell_type": "code",
   "execution_count": 15,
   "id": "ef10a510",
   "metadata": {},
   "outputs": [
    {
     "data": {
      "text/plain": [
       "False"
      ]
     },
     "execution_count": 15,
     "metadata": {},
     "output_type": "execute_result"
    }
   ],
   "source": [
    "a==10"
   ]
  },
  {
   "cell_type": "code",
   "execution_count": 17,
   "id": "4b18b4f5",
   "metadata": {},
   "outputs": [
    {
     "data": {
      "text/plain": [
       "10"
      ]
     },
     "execution_count": 17,
     "metadata": {},
     "output_type": "execute_result"
    }
   ],
   "source": [
    "a"
   ]
  },
  {
   "cell_type": "code",
   "execution_count": 22,
   "id": "e1f103b5",
   "metadata": {},
   "outputs": [],
   "source": [
    "a=50"
   ]
  },
  {
   "cell_type": "code",
   "execution_count": 23,
   "id": "abe4ee0e",
   "metadata": {},
   "outputs": [],
   "source": [
    "b=45"
   ]
  },
  {
   "cell_type": "code",
   "execution_count": 25,
   "id": "efe924f5",
   "metadata": {},
   "outputs": [
    {
     "data": {
      "text/plain": [
       "50"
      ]
     },
     "execution_count": 25,
     "metadata": {},
     "output_type": "execute_result"
    }
   ],
   "source": [
    "a"
   ]
  },
  {
   "cell_type": "code",
   "execution_count": 26,
   "id": "849c47ee",
   "metadata": {},
   "outputs": [
    {
     "data": {
      "text/plain": [
       "45"
      ]
     },
     "execution_count": 26,
     "metadata": {},
     "output_type": "execute_result"
    }
   ],
   "source": [
    "b"
   ]
  },
  {
   "cell_type": "code",
   "execution_count": 19,
   "id": "e3abc885",
   "metadata": {},
   "outputs": [],
   "source": [
    "# Logical operators"
   ]
  },
  {
   "cell_type": "markdown",
   "id": "cd1c3728",
   "metadata": {},
   "source": [
    "and \n",
    "or\n",
    "not"
   ]
  },
  {
   "cell_type": "code",
   "execution_count": 21,
   "id": "d83f6bff",
   "metadata": {},
   "outputs": [
    {
     "data": {
      "text/plain": [
       "True"
      ]
     },
     "execution_count": 21,
     "metadata": {},
     "output_type": "execute_result"
    }
   ],
   "source": [
    "a>b"
   ]
  },
  {
   "cell_type": "code",
   "execution_count": 24,
   "id": "f39b264d",
   "metadata": {},
   "outputs": [
    {
     "data": {
      "text/plain": [
       "False"
      ]
     },
     "execution_count": 24,
     "metadata": {},
     "output_type": "execute_result"
    }
   ],
   "source": [
    "a>100"
   ]
  },
  {
   "cell_type": "code",
   "execution_count": 27,
   "id": "db857dce",
   "metadata": {},
   "outputs": [
    {
     "data": {
      "text/plain": [
       "False"
      ]
     },
     "execution_count": 27,
     "metadata": {},
     "output_type": "execute_result"
    }
   ],
   "source": [
    "(a>b) and (a>100)"
   ]
  },
  {
   "cell_type": "code",
   "execution_count": 28,
   "id": "66ce4771",
   "metadata": {},
   "outputs": [
    {
     "data": {
      "text/plain": [
       "True"
      ]
     },
     "execution_count": 28,
     "metadata": {},
     "output_type": "execute_result"
    }
   ],
   "source": [
    "(a>b) or (a>100)"
   ]
  },
  {
   "cell_type": "code",
   "execution_count": null,
   "id": "bb3901af",
   "metadata": {},
   "outputs": [],
   "source": [
    "True and True   --- True\n",
    "True and False  --- False\n",
    "False and True  --- False\n",
    "False and False --- False\n"
   ]
  },
  {
   "cell_type": "code",
   "execution_count": 29,
   "id": "573d45cf",
   "metadata": {},
   "outputs": [
    {
     "data": {
      "text/plain": [
       "0"
      ]
     },
     "execution_count": 29,
     "metadata": {},
     "output_type": "execute_result"
    }
   ],
   "source": [
    "True or True   --- True\n",
    "True or False  --- True\n",
    "False or True  --- True\n",
    "False or False --- False\n"
   ]
  },
  {
   "cell_type": "code",
   "execution_count": 36,
   "id": "03cde6b4",
   "metadata": {},
   "outputs": [],
   "source": [
    "#q1\n",
    "x=34.56\n",
    "y=3.5\n",
    "# all arithmatic operators\n",
    "# all comparsion operators\n",
    "# and or"
   ]
  },
  {
   "cell_type": "code",
   "execution_count": 37,
   "id": "90dc4f05",
   "metadata": {},
   "outputs": [
    {
     "data": {
      "text/plain": [
       "38.06"
      ]
     },
     "execution_count": 37,
     "metadata": {},
     "output_type": "execute_result"
    }
   ],
   "source": [
    "s=x+y\n",
    "s"
   ]
  },
  {
   "cell_type": "code",
   "execution_count": null,
   "id": "e0959f83",
   "metadata": {},
   "outputs": [],
   "source": []
  }
 ],
 "metadata": {
  "kernelspec": {
   "display_name": "Python 3 (ipykernel)",
   "language": "python",
   "name": "python3"
  },
  "language_info": {
   "codemirror_mode": {
    "name": "ipython",
    "version": 3
   },
   "file_extension": ".py",
   "mimetype": "text/x-python",
   "name": "python",
   "nbconvert_exporter": "python",
   "pygments_lexer": "ipython3",
   "version": "3.11.4"
  }
 },
 "nbformat": 4,
 "nbformat_minor": 5
}
