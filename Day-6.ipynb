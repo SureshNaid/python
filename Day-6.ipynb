{
 "cells": [
  {
   "cell_type": "code",
   "execution_count": 1,
   "id": "3f9d1373",
   "metadata": {},
   "outputs": [
    {
     "data": {
      "text/plain": [
       "'if condition1:\\n    task1 block of code\\nelif conditiond2:\\n    task2 block of code\\nelif condition3:\\n    task3 block of code\\nelse:\\n    task4 block of code'"
      ]
     },
     "execution_count": 1,
     "metadata": {},
     "output_type": "execute_result"
    }
   ],
   "source": [
    "'''if condition1:\n",
    "    task1 block of code\n",
    "elif conditiond2:\n",
    "    task2 block of code\n",
    "elif condition3:\n",
    "    task3 block of code\n",
    "else:\n",
    "    task4 block of code'''"
   ]
  },
  {
   "cell_type": "code",
   "execution_count": 2,
   "id": "117b8273",
   "metadata": {},
   "outputs": [
    {
     "name": "stdout",
     "output_type": "stream",
     "text": [
      "7\n",
      "odd\n"
     ]
    }
   ],
   "source": [
    "x=int(input())\n",
    "if x%2==0:\n",
    "    print('even')\n",
    "else:\n",
    "    print('odd')"
   ]
  },
  {
   "cell_type": "code",
   "execution_count": 3,
   "id": "b0cde917",
   "metadata": {},
   "outputs": [],
   "source": [
    "#write a program is number is positive or negative"
   ]
  },
  {
   "cell_type": "code",
   "execution_count": 4,
   "id": "1af968ef",
   "metadata": {},
   "outputs": [
    {
     "name": "stdout",
     "output_type": "stream",
     "text": [
      "6\n",
      "positive\n"
     ]
    }
   ],
   "source": [
    "x=int(input())\n",
    "if x>0:\n",
    "    print('positive')\n",
    "elif x<0:\n",
    "    print('Negative')\n",
    "else:\n",
    "    print('Zer0')\n",
    "    "
   ]
  },
  {
   "cell_type": "code",
   "execution_count": 5,
   "id": "1b425f6c",
   "metadata": {},
   "outputs": [
    {
     "name": "stdout",
     "output_type": "stream",
     "text": [
      "Negative\n"
     ]
    }
   ],
   "source": [
    "x=-5.8\n",
    "if x>0:\n",
    "    print('positive')\n",
    "elif x<0:\n",
    "    print('Negative')\n",
    "else:\n",
    "    print('Zer0')"
   ]
  },
  {
   "cell_type": "code",
   "execution_count": 6,
   "id": "98f9456e",
   "metadata": {},
   "outputs": [
    {
     "name": "stdout",
     "output_type": "stream",
     "text": [
      "M\n"
     ]
    }
   ],
   "source": [
    "y=10\n",
    "if y>5:\n",
    "    print('M')\n",
    "elif y>4:\n",
    "    print('K')\n",
    "elif y>7:\n",
    "    print('H')\n",
    "else:\n",
    "    print('O')"
   ]
  },
  {
   "cell_type": "code",
   "execution_count": 7,
   "id": "121c39e6",
   "metadata": {},
   "outputs": [
    {
     "name": "stdout",
     "output_type": "stream",
     "text": [
      "M\n"
     ]
    }
   ],
   "source": [
    "y=10\n",
    "if y>5:\n",
    "    print('M')\n",
    "elif y>4:\n",
    "    print('K')\n",
    "elif y>7:\n",
    "    print('H')\n",
    "else:\n",
    "    print('O')"
   ]
  },
  {
   "cell_type": "code",
   "execution_count": 8,
   "id": "d275d85c",
   "metadata": {},
   "outputs": [
    {
     "data": {
      "text/plain": [
       "'hyderabad'"
      ]
     },
     "execution_count": 8,
     "metadata": {},
     "output_type": "execute_result"
    }
   ],
   "source": [
    "t='hyderabad'\n",
    "t"
   ]
  },
  {
   "cell_type": "code",
   "execution_count": 9,
   "id": "0c4a9eb4",
   "metadata": {},
   "outputs": [
    {
     "data": {
      "text/plain": [
       "str"
      ]
     },
     "execution_count": 9,
     "metadata": {},
     "output_type": "execute_result"
    }
   ],
   "source": [
    "type(t)"
   ]
  },
  {
   "cell_type": "code",
   "execution_count": 10,
   "id": "dda9a34c",
   "metadata": {},
   "outputs": [
    {
     "data": {
      "text/plain": [
       "'a'"
      ]
     },
     "execution_count": 10,
     "metadata": {},
     "output_type": "execute_result"
    }
   ],
   "source": [
    "t[-2]"
   ]
  },
  {
   "cell_type": "code",
   "execution_count": 11,
   "id": "22f5699b",
   "metadata": {},
   "outputs": [
    {
     "data": {
      "text/plain": [
       "'HYDERABAD'"
      ]
     },
     "execution_count": 11,
     "metadata": {},
     "output_type": "execute_result"
    }
   ],
   "source": [
    "t.upper()"
   ]
  },
  {
   "cell_type": "code",
   "execution_count": 13,
   "id": "78cccfc8",
   "metadata": {},
   "outputs": [
    {
     "name": "stdout",
     "output_type": "stream",
     "text": [
      "False\n"
     ]
    }
   ],
   "source": [
    "x='telangana'\n",
    "x='Tiger'\n",
    "x='Tan'\n",
    "x='lion'\n",
    "x='mumbai'\n",
    "if x[0]==t:\n",
    "    print('True')\n",
    "else:\n",
    "    print('False')"
   ]
  },
  {
   "cell_type": "code",
   "execution_count": 14,
   "id": "c0b79024",
   "metadata": {},
   "outputs": [
    {
     "name": "stdout",
     "output_type": "stream",
     "text": [
      "telangana\n",
      "Yes\n"
     ]
    }
   ],
   "source": [
    "x=input()\n",
    "if x[0]=='t' or x[0]=='T':\n",
    "    print('Yes')\n",
    "else:\n",
    "    print('No')"
   ]
  },
  {
   "cell_type": "code",
   "execution_count": 15,
   "id": "234b3157",
   "metadata": {},
   "outputs": [
    {
     "name": "stdout",
     "output_type": "stream",
     "text": [
      "suresh\n",
      "true\n"
     ]
    }
   ],
   "source": [
    "x=input()\n",
    "if x[0].lower() in {'t','s','m','h'}:\n",
    "    print('true')\n",
    "else:\n",
    "    print('false')"
   ]
  },
  {
   "cell_type": "code",
   "execution_count": null,
   "id": "0b50d068",
   "metadata": {},
   "outputs": [],
   "source": []
  }
 ],
 "metadata": {
  "kernelspec": {
   "display_name": "Python 3 (ipykernel)",
   "language": "python",
   "name": "python3"
  },
  "language_info": {
   "codemirror_mode": {
    "name": "ipython",
    "version": 3
   },
   "file_extension": ".py",
   "mimetype": "text/x-python",
   "name": "python",
   "nbconvert_exporter": "python",
   "pygments_lexer": "ipython3",
   "version": "3.11.4"
  }
 },
 "nbformat": 4,
 "nbformat_minor": 5
}
