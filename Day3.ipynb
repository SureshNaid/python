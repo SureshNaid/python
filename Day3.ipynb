{
 "cells": [
  {
   "cell_type": "code",
   "execution_count": 1,
   "id": "9ae0ff77",
   "metadata": {},
   "outputs": [
    {
     "data": {
      "text/plain": [
       "[23, 34, 45, 56, 67]"
      ]
     },
     "execution_count": 1,
     "metadata": {},
     "output_type": "execute_result"
    }
   ],
   "source": [
    "a=[23,34,45,56,67]\n",
    "a"
   ]
  },
  {
   "cell_type": "code",
   "execution_count": 2,
   "id": "9133e1c2",
   "metadata": {},
   "outputs": [
    {
     "data": {
      "text/plain": [
       "list"
      ]
     },
     "execution_count": 2,
     "metadata": {},
     "output_type": "execute_result"
    }
   ],
   "source": [
    "type(a)"
   ]
  },
  {
   "cell_type": "code",
   "execution_count": 7,
   "id": "5f1888e7",
   "metadata": {},
   "outputs": [
    {
     "data": {
      "text/plain": [
       "[264, 'Hyderabad', 45, True, 'Mumbai', 78, 209, 67]"
      ]
     },
     "execution_count": 7,
     "metadata": {},
     "output_type": "execute_result"
    }
   ],
   "source": [
    "c=[264,'Hyderabad',45,True,'Mumbai',78,209,67]\n",
    "c"
   ]
  },
  {
   "cell_type": "code",
   "execution_count": 4,
   "id": "92476c57",
   "metadata": {},
   "outputs": [
    {
     "data": {
      "text/plain": [
       "list"
      ]
     },
     "execution_count": 4,
     "metadata": {},
     "output_type": "execute_result"
    }
   ],
   "source": [
    "type(c)"
   ]
  },
  {
   "cell_type": "code",
   "execution_count": 6,
   "id": "aaede1fa",
   "metadata": {},
   "outputs": [
    {
     "data": {
      "text/plain": [
       "45"
      ]
     },
     "execution_count": 6,
     "metadata": {},
     "output_type": "execute_result"
    }
   ],
   "source": [
    "c[2]"
   ]
  },
  {
   "cell_type": "code",
   "execution_count": 8,
   "id": "38843f01",
   "metadata": {},
   "outputs": [
    {
     "data": {
      "text/plain": [
       "'Mumbai'"
      ]
     },
     "execution_count": 8,
     "metadata": {},
     "output_type": "execute_result"
    }
   ],
   "source": [
    "c[4]"
   ]
  },
  {
   "cell_type": "code",
   "execution_count": 9,
   "id": "4db6ef1b",
   "metadata": {},
   "outputs": [
    {
     "data": {
      "text/plain": [
       "45"
      ]
     },
     "execution_count": 9,
     "metadata": {},
     "output_type": "execute_result"
    }
   ],
   "source": [
    "c[-6]"
   ]
  },
  {
   "cell_type": "code",
   "execution_count": 10,
   "id": "5473c86b",
   "metadata": {},
   "outputs": [
    {
     "data": {
      "text/plain": [
       "['Hyderabad', 45, True]"
      ]
     },
     "execution_count": 10,
     "metadata": {},
     "output_type": "execute_result"
    }
   ],
   "source": [
    "c[1:4]"
   ]
  },
  {
   "cell_type": "code",
   "execution_count": 11,
   "id": "8f22b4de",
   "metadata": {},
   "outputs": [
    {
     "data": {
      "text/plain": [
       "[45, True, 'Mumbai', 78, 209]"
      ]
     },
     "execution_count": 11,
     "metadata": {},
     "output_type": "execute_result"
    }
   ],
   "source": [
    "c[2:7]"
   ]
  },
  {
   "cell_type": "code",
   "execution_count": 12,
   "id": "64f7b551",
   "metadata": {},
   "outputs": [
    {
     "data": {
      "text/plain": [
       "[45, True, 'Mumbai', 78]"
      ]
     },
     "execution_count": 12,
     "metadata": {},
     "output_type": "execute_result"
    }
   ],
   "source": [
    "c[-6:-2]"
   ]
  },
  {
   "cell_type": "code",
   "execution_count": 13,
   "id": "3d31ab48",
   "metadata": {},
   "outputs": [
    {
     "data": {
      "text/plain": [
       "[45, True, 'Mumbai', 78, 209]"
      ]
     },
     "execution_count": 13,
     "metadata": {},
     "output_type": "execute_result"
    }
   ],
   "source": [
    "c[2:-1]"
   ]
  },
  {
   "cell_type": "code",
   "execution_count": 14,
   "id": "7bc4d398",
   "metadata": {},
   "outputs": [
    {
     "data": {
      "text/plain": [
       "[264, 'Hyderabad', 45, True, 'Mumbai', 78]"
      ]
     },
     "execution_count": 14,
     "metadata": {},
     "output_type": "execute_result"
    }
   ],
   "source": [
    "c[0:6]"
   ]
  },
  {
   "cell_type": "code",
   "execution_count": 15,
   "id": "124a9244",
   "metadata": {},
   "outputs": [
    {
     "data": {
      "text/plain": [
       "[264, 'Hyderabad', 45, True, 'Mumbai', 78]"
      ]
     },
     "execution_count": 15,
     "metadata": {},
     "output_type": "execute_result"
    }
   ],
   "source": [
    "c[0:6:1]"
   ]
  },
  {
   "cell_type": "code",
   "execution_count": 16,
   "id": "1ffb6f42",
   "metadata": {},
   "outputs": [
    {
     "data": {
      "text/plain": [
       "[264, 45, 'Mumbai']"
      ]
     },
     "execution_count": 16,
     "metadata": {},
     "output_type": "execute_result"
    }
   ],
   "source": [
    "c[0:6:2]"
   ]
  },
  {
   "cell_type": "code",
   "execution_count": 20,
   "id": "f5e85ace",
   "metadata": {},
   "outputs": [
    {
     "data": {
      "text/plain": [
       "['Hyderabad', 45, True, 'Mumbai', 78, 209]"
      ]
     },
     "execution_count": 20,
     "metadata": {},
     "output_type": "execute_result"
    }
   ],
   "source": [
    "c[1:7]"
   ]
  },
  {
   "cell_type": "code",
   "execution_count": 19,
   "id": "0bfeae88",
   "metadata": {},
   "outputs": [
    {
     "data": {
      "text/plain": [
       "['Hyderabad', 'Mumbai']"
      ]
     },
     "execution_count": 19,
     "metadata": {},
     "output_type": "execute_result"
    }
   ],
   "source": [
    "c[1:7:3]"
   ]
  },
  {
   "cell_type": "code",
   "execution_count": 22,
   "id": "b94df8f2",
   "metadata": {},
   "outputs": [
    {
     "data": {
      "text/plain": [
       "[209, 78, 'Mumbai', True]"
      ]
     },
     "execution_count": 22,
     "metadata": {},
     "output_type": "execute_result"
    }
   ],
   "source": [
    "c[-2:2:-1]"
   ]
  },
  {
   "cell_type": "code",
   "execution_count": 23,
   "id": "6fd278b0",
   "metadata": {},
   "outputs": [
    {
     "data": {
      "text/plain": [
       "[264, 'Hyderabad', 45, True, 'Mumbai', 78, 209, 67, 99]"
      ]
     },
     "execution_count": 23,
     "metadata": {},
     "output_type": "execute_result"
    }
   ],
   "source": [
    "c.append(99)\n",
    "c"
   ]
  },
  {
   "cell_type": "code",
   "execution_count": 25,
   "id": "ae4c07d1",
   "metadata": {},
   "outputs": [
    {
     "data": {
      "text/plain": [
       "[264, 'Hyderabad', 45, True, 'Mumbai', 78, 209, 67, 99, 'Palnadu', 'Palnadu']"
      ]
     },
     "execution_count": 25,
     "metadata": {},
     "output_type": "execute_result"
    }
   ],
   "source": [
    "c.append('Palnadu')\n",
    "c"
   ]
  },
  {
   "cell_type": "code",
   "execution_count": 26,
   "id": "f2b94c35",
   "metadata": {},
   "outputs": [
    {
     "data": {
      "text/plain": [
       "[264,\n",
       " 'Hyderabad',\n",
       " 45,\n",
       " True,\n",
       " 90,\n",
       " 'Mumbai',\n",
       " 78,\n",
       " 209,\n",
       " 67,\n",
       " 99,\n",
       " 'Palnadu',\n",
       " 'Palnadu']"
      ]
     },
     "execution_count": 26,
     "metadata": {},
     "output_type": "execute_result"
    }
   ],
   "source": [
    "c.insert(4,90)\n",
    "c"
   ]
  },
  {
   "cell_type": "code",
   "execution_count": 30,
   "id": "6551fdac",
   "metadata": {},
   "outputs": [
    {
     "data": {
      "text/plain": [
       "[264, 'Hyderabad', 45, True, 90, 'Mumbai', 78, 209, 67, 99, 'Palnadu']"
      ]
     },
     "execution_count": 30,
     "metadata": {},
     "output_type": "execute_result"
    }
   ],
   "source": [
    "c.remove('Palnadu')\n",
    "c"
   ]
  },
  {
   "cell_type": "code",
   "execution_count": 31,
   "id": "7f6656d6",
   "metadata": {},
   "outputs": [
    {
     "data": {
      "text/plain": [
       "[264, 'Hyderabad', 45, True, 90, 'Mumbai', 78, 209, 67, 99, 'Palnadu']"
      ]
     },
     "execution_count": 31,
     "metadata": {},
     "output_type": "execute_result"
    }
   ],
   "source": [
    "c"
   ]
  },
  {
   "cell_type": "code",
   "execution_count": 32,
   "id": "461e3041",
   "metadata": {},
   "outputs": [
    {
     "data": {
      "text/plain": [
       "[264, 'Hyderabad', 45, True, 90, 'Mumbai', 78, 209, 67, 'Palnadu']"
      ]
     },
     "execution_count": 32,
     "metadata": {},
     "output_type": "execute_result"
    }
   ],
   "source": [
    "c.pop(9)\n",
    "c"
   ]
  },
  {
   "cell_type": "code",
   "execution_count": 33,
   "id": "2fbcce66",
   "metadata": {},
   "outputs": [
    {
     "data": {
      "text/plain": [
       "list"
      ]
     },
     "execution_count": 33,
     "metadata": {},
     "output_type": "execute_result"
    }
   ],
   "source": [
    "type(c)"
   ]
  },
  {
   "cell_type": "code",
   "execution_count": 34,
   "id": "5aa1ca9f",
   "metadata": {},
   "outputs": [
    {
     "data": {
      "text/plain": [
       "1"
      ]
     },
     "execution_count": 34,
     "metadata": {},
     "output_type": "execute_result"
    }
   ],
   "source": [
    "c.count(209)"
   ]
  },
  {
   "cell_type": "code",
   "execution_count": 35,
   "id": "366c330e",
   "metadata": {},
   "outputs": [
    {
     "data": {
      "text/plain": [
       "[264, 'Hyderabad', 45, True, 90, 'Mumbai', 78, 209, 67, 'Palnadu']"
      ]
     },
     "execution_count": 35,
     "metadata": {},
     "output_type": "execute_result"
    }
   ],
   "source": [
    "c"
   ]
  },
  {
   "cell_type": "code",
   "execution_count": 36,
   "id": "6daf3cb7",
   "metadata": {},
   "outputs": [
    {
     "data": {
      "text/plain": [
       "[264, 'Hyderabad', 45, True, 90, 'Mumbai', 78, 209, 67, 'Palnadu', 50, 70]"
      ]
     },
     "execution_count": 36,
     "metadata": {},
     "output_type": "execute_result"
    }
   ],
   "source": [
    "c.extend([50,70])\n",
    "c"
   ]
  },
  {
   "cell_type": "code",
   "execution_count": 37,
   "id": "5cf81b74",
   "metadata": {},
   "outputs": [
    {
     "data": {
      "text/plain": [
       "(3, 5, 7, 2, 9)"
      ]
     },
     "execution_count": 37,
     "metadata": {},
     "output_type": "execute_result"
    }
   ],
   "source": [
    "d=(3,5,7,2,9)\n",
    "d"
   ]
  },
  {
   "cell_type": "code",
   "execution_count": 38,
   "id": "17854f3a",
   "metadata": {},
   "outputs": [],
   "source": [
    "c.extend(d)"
   ]
  },
  {
   "cell_type": "code",
   "execution_count": 39,
   "id": "4cbe92e9",
   "metadata": {},
   "outputs": [
    {
     "data": {
      "text/plain": [
       "[264,\n",
       " 'Hyderabad',\n",
       " 45,\n",
       " True,\n",
       " 90,\n",
       " 'Mumbai',\n",
       " 78,\n",
       " 209,\n",
       " 67,\n",
       " 'Palnadu',\n",
       " 50,\n",
       " 70,\n",
       " 3,\n",
       " 5,\n",
       " 7,\n",
       " 2,\n",
       " 9]"
      ]
     },
     "execution_count": 39,
     "metadata": {},
     "output_type": "execute_result"
    }
   ],
   "source": [
    "c"
   ]
  },
  {
   "cell_type": "code",
   "execution_count": 40,
   "id": "feedb8b8",
   "metadata": {},
   "outputs": [
    {
     "data": {
      "text/plain": [
       "(3, 5, 7, 2, 9)"
      ]
     },
     "execution_count": 40,
     "metadata": {},
     "output_type": "execute_result"
    }
   ],
   "source": [
    "d"
   ]
  },
  {
   "cell_type": "code",
   "execution_count": 41,
   "id": "c94e02a9",
   "metadata": {},
   "outputs": [
    {
     "data": {
      "text/plain": [
       "(16, 51, 32, 59, 20)"
      ]
     },
     "execution_count": 41,
     "metadata": {},
     "output_type": "execute_result"
    }
   ],
   "source": [
    "a=(16,51,32,59,20)\n",
    "a"
   ]
  },
  {
   "cell_type": "code",
   "execution_count": 42,
   "id": "f659b47b",
   "metadata": {},
   "outputs": [
    {
     "data": {
      "text/plain": [
       "(3, 5, 7, 2, 9, 16, 51, 32, 59, 20)"
      ]
     },
     "execution_count": 42,
     "metadata": {},
     "output_type": "execute_result"
    }
   ],
   "source": [
    "d + a"
   ]
  },
  {
   "cell_type": "code",
   "execution_count": null,
   "id": "0af46dc8",
   "metadata": {},
   "outputs": [],
   "source": []
  }
 ],
 "metadata": {
  "kernelspec": {
   "display_name": "Python 3 (ipykernel)",
   "language": "python",
   "name": "python3"
  },
  "language_info": {
   "codemirror_mode": {
    "name": "ipython",
    "version": 3
   },
   "file_extension": ".py",
   "mimetype": "text/x-python",
   "name": "python",
   "nbconvert_exporter": "python",
   "pygments_lexer": "ipython3",
   "version": "3.11.4"
  }
 },
 "nbformat": 4,
 "nbformat_minor": 5
}
